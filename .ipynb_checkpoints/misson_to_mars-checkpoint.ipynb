{
 "cells": [
  {
   "cell_type": "code",
   "execution_count": 45,
   "metadata": {},
   "outputs": [],
   "source": [
    "# Dependencies\n",
    "from bs4 import BeautifulSoup as bs\n",
    "import requests\n",
    "import pymongo\n",
    "from splinter import Browser\n",
    "from webdriver_manager.chrome import ChromeDriverManager\n",
    "import pandas as pd"
   ]
  },
  {
   "cell_type": "code",
   "execution_count": 3,
   "metadata": {},
   "outputs": [],
   "source": [
    "# Initialize Pymongo to work with MongoDBs"
   ]
  },
  {
   "cell_type": "code",
   "execution_count": 4,
   "metadata": {},
   "outputs": [],
   "source": [
    "# Define database and collection"
   ]
  },
  {
   "cell_type": "code",
   "execution_count": 5,
   "metadata": {},
   "outputs": [],
   "source": [
    "# URL of page to be scraped \n",
    "url = 'https://mars.nasa.gov/news/8805/moxie-could-help-future-rockets-launch-off-mars/'\n",
    "\n",
    "# Retrive page with the requests module\n",
    "response = requests.get(url)\n",
    "\n",
    "# Create BeautifulSoup object; parse with html\n",
    "soup = bs(response.text, 'html.parser')"
   ]
  },
  {
   "cell_type": "code",
   "execution_count": 39,
   "metadata": {
    "scrolled": true
   },
   "outputs": [
    {
     "name": "stdout",
     "output_type": "stream",
     "text": [
      "\n",
      "MOXIE Could Help Future Rockets Launch Off Mars\n",
      "\n",
      "\n",
      "\n",
      "NASA's Perseverance rover carries a device to convert Martian air into oxygen that, if produced on a larger scale, could be used not just for breathing, but also for fuel.\n",
      "\n",
      "One of the hardest things about sending astronauts to Mars will be getting them home. Launching a rocket off the surface of the Red Planet will require industrial quantities of oxygen, a crucial part of propellant: A crew of four would need about 55,000 pounds (25 metric tons) of it to produce thrust from 15,000 pounds (7 metric tons) of rocket fuel.\n",
      "That's a lot of propellant. But instead of shipping all that oxygen, what if the crew could make it out of thin (Martian) air? A first-generation oxygen generator aboard NASA's Perseverance rover will test technology for doing exactly that.\n",
      "The Mars Oxygen In-Situ Resource Utilization Experiment, or MOXIE, is an experimental instrument that stands apart from Perseverance's primary science. One of the rover's main purposes is capturing returnable rock samples that could carry signs of ancient microbial life. While Perseverance has a suite of instruments geared toward helping achieve that goal, MOXIE is focused solely on the engineering required for future human exploration efforts.    \n",
      "Since the dawn of the space age, researchers have talked about in-situ resource utilization, or ISRU. Think of it as living off the land and using what's available in the local environment. That includes things like finding water ice that could be melted for use or sheltering in caves, but also generating oxygen for rocket fuel and, of course, breathing.\n",
      "Breathing is just a side benefit of MOXIE's true goal, said Michael Hecht of the Massachusetts Institute of Technology, the instrument's principal investigator. Rocket propellant is the heaviest consumable resource that astronauts will need, so being able to produce oxygen at their destination would make the first crewed trip to Mars easier, safer, and cheaper.\n",
      "\"What people typically ask me is whether MOXIE is being developed so astronauts have something to breathe,\" Hecht said. \"But rockets breathe hundreds of times as much oxygen as people.\"\n",
      "\n",
      "\n",
      "\n",
      "\n",
      "\n",
      "\n",
      "Components of MOXIE: An illustration of MOXIE and its components. An air pump pulls in carbon dioxide gas from the Martian atmosphere, which is then regulated and fed to the Solid OXide Electrolyzer (SOXE), where it is electrochemically split to produce pure oxygen. Credit: NASA/JPL-Caltech. Download image ›\n",
      "\n",
      "\n",
      "\n",
      "Making Oxygen Requires Heat\n",
      "Mars' atmosphere poses a major challenge for human life and rocket propellant production. It's only 1% as thick as Earth's atmosphere and is 95% carbon dioxide.\n",
      "MOXIE pulls in that air with a pump, then uses an electrochemical process to separate two oxygen atoms from each molecule of carbon dioxide, or CO2. AnchorAs the gases flow through the system, they are analyzed to check how much oxygen has been produced, how pure it is, and how efficiently the system is working. All the gases are vented back into the atmosphere after each experiment is run.\n",
      "Powering this electrochemical conversion requires a lot of heat – about 1,470 degrees Fahrenheit (800 degrees Celsius). Because of those high temperatures, MOXIE, which is a little larger than a toaster, features a variety of heat-tolerant materials. Special 3D-printed nickel alloy parts help distribute the heat within the instrument, while superlight insulation called aerogel minimizes the power needed to keep it at operating temperatures. The outside of MOXIE is coated in a thin layer of gold, which is an excellent reflector of infrared heat and keeps those blistering temperatures from radiating into other parts of Perseverance.\n",
      "\"MOXIE is designed to make about 6 to 10 grams of oxygen per hour – just about enough for a small dog to breathe,\" said Asad Aboobaker, a MOXIE systems engineer at NASA's Jet Propulsion Laboratory in Southern California. \"A full-scale system geared to make (propellant for the flight home) would need to scale up oxygen production by about 200 times what MOXIE will create.\"\n",
      "\n",
      "\n",
      "\n",
      "\n",
      "\n",
      "Could NASA's MOXIE Help Astronauts Breathe on Mars? MOXIE engineer Asad Aboobaker of JPL explains how the instrument works in this video interview. Credit: NASA/JPL-Caltech. Download video ›\n",
      "\n",
      "\n",
      "The Future Martians\n",
      "Hecht estimates that a full-scale MOXIE system on Mars might be a bit larger than a household stove and weigh around 2,200 pounds (1,000 kilograms) – almost as much as Perseverance itself. Work is ongoing to develop a prototype for one in the near future.\n",
      "The team expects to run MOXIE about 10 times over the course of one Mars year (two Earth years), allowing them to watch how well it works in varying seasons. The results will inform the design of future oxygen generators.\n",
      "\"The commitment to developing MOXIE shows that NASA is serious about this,\" Hecht said. \"MOXIE isn't the complete answer, but it's a critical piece of it. If successful, it will show that future astronauts can rely on this technology to help get them home safely from Mars.\"\n",
      "More About the Mission\n",
      "A key objective for Perseverance's mission on Mars is astrobiology, including the search for signs of ancient microbial life. The rover will characterize the planet's geology and past climate, pave the way for human exploration of the Red Planet, and be the first mission to collect and cache Martian rock and regolith (broken rock and dust).\n",
      "Subsequent missions, currently under consideration by NASA in cooperation with ESA (the European Space Agency), would send spacecraft to Mars to collect these cached samples from the surface and return them to Earth for in-depth analysis.\n",
      "The Mars 2020 mission is part of a larger program that includes missions to the Moon as a way to prepare for human exploration of the Red Planet. Charged with returning astronauts to the Moon by 2024, NASA will establish a sustained human presence on and around the Moon by 2028 through NASA's Artemis lunar exploration plans.\n",
      "JPL, which is managed for NASA by Caltech in Pasadena, California, built and manages operations of the Perseverance rover.\n",
      "For more about Perseverance:\n",
      "mars.nasa.gov/mars2020/\n",
      "nasa.gov/perseverance\n",
      "News Media Contacts\r\n",
      "Andrew Good\r\n",
      "Jet Propulsion Laboratory, Pasadena, Calif.\r\n",
      "818-393-2433\n",
      "andrew.c.good@jpl.nasa.gov\n",
      " \n",
      "Alana Johnson / Grey Hautaluoma\r\n",
      "NASA Headquarters, Washington\r\n",
      "202-672-4780 / 202-358-0668\n",
      "alana.r.johnson@nasa.gov / grey.hautaluoma-1@nasa.gov\n",
      "\n"
     ]
    }
   ],
   "source": [
    "# Retrieve the parent divs for all articles\n",
    "article_title = soup.find('h1', class_='article_title').text\n",
    "content = soup.find('div', class_='wysiwyg_content').text\n",
    "print(article_title)\n",
    "print(content)\n",
    "\n"
   ]
  },
  {
   "cell_type": "code",
   "execution_count": 53,
   "metadata": {},
   "outputs": [
    {
     "name": "stderr",
     "output_type": "stream",
     "text": [
      "[WDM] - Current google-chrome version is 87.0.4280\n",
      "[WDM] - Get LATEST driver version for 87.0.4280\n",
      "[WDM] - Driver [C:\\Users\\lakew\\.wdm\\drivers\\chromedriver\\win32\\87.0.4280.88\\chromedriver.exe] found in cache\n"
     ]
    },
    {
     "name": "stdout",
     "output_type": "stream",
     "text": [
      " \n"
     ]
    }
   ],
   "source": [
    "# Create executable path and create browser\n",
    "executable_path = {'executable_path': ChromeDriverManager().install()}\n",
    "browser = Browser('chrome', **executable_path, headless=False)"
   ]
  },
  {
   "cell_type": "code",
   "execution_count": 54,
   "metadata": {},
   "outputs": [],
   "source": [
    "# Assign url and have the browser open it\n",
    "nasa_url = 'https://www.jpl.nasa.gov/spaceimages/?search=&category=Mars'\n",
    "browser.visit(nasa_url)"
   ]
  },
  {
   "cell_type": "code",
   "execution_count": 55,
   "metadata": {},
   "outputs": [],
   "source": [
    "# Create new html and soup for splinter \n",
    "mars_html = browser.html\n",
    "mars_soup = bs(mars_html, 'html.parser')"
   ]
  },
  {
   "cell_type": "code",
   "execution_count": 56,
   "metadata": {},
   "outputs": [
    {
     "name": "stdout",
     "output_type": "stream",
     "text": [
      "https://www.jpl.nasa.gov//spaceimages/images/mediumsize/PIA18245_ip.jpg\n"
     ]
    }
   ],
   "source": [
    "# Dig into the main image and then further down into the appropriate href\n",
    "featured = mars_soup.find('div', class_='carousel_container')\n",
    "featured_image = featured.find('footer')\n",
    "featured_url = featured_image.find('a')['data-fancybox-href']\n",
    "featured_url = 'https://www.jpl.nasa.gov/' + featured_url\n",
    "print(featured_url)"
   ]
  },
  {
   "cell_type": "code",
   "execution_count": 57,
   "metadata": {},
   "outputs": [],
   "source": [
    "browser.quit()"
   ]
  },
  {
   "cell_type": "code",
   "execution_count": 51,
   "metadata": {},
   "outputs": [
    {
     "ename": "ImportError",
     "evalue": "html5lib not found, please install it",
     "output_type": "error",
     "traceback": [
      "\u001b[1;31m---------------------------------------------------------------------------\u001b[0m",
      "\u001b[1;31mImportError\u001b[0m                               Traceback (most recent call last)",
      "\u001b[1;32m<ipython-input-51-ab092cc39f3c>\u001b[0m in \u001b[0;36m<module>\u001b[1;34m\u001b[0m\n\u001b[0;32m      1\u001b[0m \u001b[1;31m# Create all new variable for all the new url\u001b[0m\u001b[1;33m\u001b[0m\u001b[1;33m\u001b[0m\u001b[1;33m\u001b[0m\u001b[0m\n\u001b[0;32m      2\u001b[0m \u001b[0mmars_url\u001b[0m \u001b[1;33m=\u001b[0m \u001b[1;34m'https://space-facts.com/mars/'\u001b[0m\u001b[1;33m\u001b[0m\u001b[1;33m\u001b[0m\u001b[0m\n\u001b[1;32m----> 3\u001b[1;33m \u001b[0mmars_facts\u001b[0m \u001b[1;33m=\u001b[0m \u001b[0mpd\u001b[0m\u001b[1;33m.\u001b[0m\u001b[0mread_html\u001b[0m\u001b[1;33m(\u001b[0m\u001b[0mmars_url\u001b[0m\u001b[1;33m,\u001b[0m \u001b[0mflavor\u001b[0m\u001b[1;33m=\u001b[0m\u001b[1;34m'html5lib'\u001b[0m\u001b[1;33m)\u001b[0m\u001b[1;33m\u001b[0m\u001b[1;33m\u001b[0m\u001b[0m\n\u001b[0m\u001b[0;32m      4\u001b[0m \u001b[0mmars_facts\u001b[0m\u001b[1;33m\u001b[0m\u001b[1;33m\u001b[0m\u001b[0m\n",
      "\u001b[1;32m~\\anaconda3\\envs\\PythonData\\lib\\site-packages\\pandas\\util\\_decorators.py\u001b[0m in \u001b[0;36mwrapper\u001b[1;34m(*args, **kwargs)\u001b[0m\n\u001b[0;32m    294\u001b[0m                 )\n\u001b[0;32m    295\u001b[0m                 \u001b[0mwarnings\u001b[0m\u001b[1;33m.\u001b[0m\u001b[0mwarn\u001b[0m\u001b[1;33m(\u001b[0m\u001b[0mmsg\u001b[0m\u001b[1;33m,\u001b[0m \u001b[0mFutureWarning\u001b[0m\u001b[1;33m,\u001b[0m \u001b[0mstacklevel\u001b[0m\u001b[1;33m=\u001b[0m\u001b[0mstacklevel\u001b[0m\u001b[1;33m)\u001b[0m\u001b[1;33m\u001b[0m\u001b[1;33m\u001b[0m\u001b[0m\n\u001b[1;32m--> 296\u001b[1;33m             \u001b[1;32mreturn\u001b[0m \u001b[0mfunc\u001b[0m\u001b[1;33m(\u001b[0m\u001b[1;33m*\u001b[0m\u001b[0margs\u001b[0m\u001b[1;33m,\u001b[0m \u001b[1;33m**\u001b[0m\u001b[0mkwargs\u001b[0m\u001b[1;33m)\u001b[0m\u001b[1;33m\u001b[0m\u001b[1;33m\u001b[0m\u001b[0m\n\u001b[0m\u001b[0;32m    297\u001b[0m \u001b[1;33m\u001b[0m\u001b[0m\n\u001b[0;32m    298\u001b[0m         \u001b[1;32mreturn\u001b[0m \u001b[0mwrapper\u001b[0m\u001b[1;33m\u001b[0m\u001b[1;33m\u001b[0m\u001b[0m\n",
      "\u001b[1;32m~\\anaconda3\\envs\\PythonData\\lib\\site-packages\\pandas\\io\\html.py\u001b[0m in \u001b[0;36mread_html\u001b[1;34m(io, match, flavor, header, index_col, skiprows, attrs, parse_dates, thousands, encoding, decimal, converters, na_values, keep_default_na, displayed_only)\u001b[0m\n\u001b[0;32m   1099\u001b[0m         \u001b[0mna_values\u001b[0m\u001b[1;33m=\u001b[0m\u001b[0mna_values\u001b[0m\u001b[1;33m,\u001b[0m\u001b[1;33m\u001b[0m\u001b[1;33m\u001b[0m\u001b[0m\n\u001b[0;32m   1100\u001b[0m         \u001b[0mkeep_default_na\u001b[0m\u001b[1;33m=\u001b[0m\u001b[0mkeep_default_na\u001b[0m\u001b[1;33m,\u001b[0m\u001b[1;33m\u001b[0m\u001b[1;33m\u001b[0m\u001b[0m\n\u001b[1;32m-> 1101\u001b[1;33m         \u001b[0mdisplayed_only\u001b[0m\u001b[1;33m=\u001b[0m\u001b[0mdisplayed_only\u001b[0m\u001b[1;33m,\u001b[0m\u001b[1;33m\u001b[0m\u001b[1;33m\u001b[0m\u001b[0m\n\u001b[0m\u001b[0;32m   1102\u001b[0m     )\n",
      "\u001b[1;32m~\\anaconda3\\envs\\PythonData\\lib\\site-packages\\pandas\\io\\html.py\u001b[0m in \u001b[0;36m_parse\u001b[1;34m(flavor, io, match, attrs, encoding, displayed_only, **kwargs)\u001b[0m\n\u001b[0;32m    892\u001b[0m     \u001b[0mretained\u001b[0m \u001b[1;33m=\u001b[0m \u001b[1;32mNone\u001b[0m\u001b[1;33m\u001b[0m\u001b[1;33m\u001b[0m\u001b[0m\n\u001b[0;32m    893\u001b[0m     \u001b[1;32mfor\u001b[0m \u001b[0mflav\u001b[0m \u001b[1;32min\u001b[0m \u001b[0mflavor\u001b[0m\u001b[1;33m:\u001b[0m\u001b[1;33m\u001b[0m\u001b[1;33m\u001b[0m\u001b[0m\n\u001b[1;32m--> 894\u001b[1;33m         \u001b[0mparser\u001b[0m \u001b[1;33m=\u001b[0m \u001b[0m_parser_dispatch\u001b[0m\u001b[1;33m(\u001b[0m\u001b[0mflav\u001b[0m\u001b[1;33m)\u001b[0m\u001b[1;33m\u001b[0m\u001b[1;33m\u001b[0m\u001b[0m\n\u001b[0m\u001b[0;32m    895\u001b[0m         \u001b[0mp\u001b[0m \u001b[1;33m=\u001b[0m \u001b[0mparser\u001b[0m\u001b[1;33m(\u001b[0m\u001b[0mio\u001b[0m\u001b[1;33m,\u001b[0m \u001b[0mcompiled_match\u001b[0m\u001b[1;33m,\u001b[0m \u001b[0mattrs\u001b[0m\u001b[1;33m,\u001b[0m \u001b[0mencoding\u001b[0m\u001b[1;33m,\u001b[0m \u001b[0mdisplayed_only\u001b[0m\u001b[1;33m)\u001b[0m\u001b[1;33m\u001b[0m\u001b[1;33m\u001b[0m\u001b[0m\n\u001b[0;32m    896\u001b[0m \u001b[1;33m\u001b[0m\u001b[0m\n",
      "\u001b[1;32m~\\anaconda3\\envs\\PythonData\\lib\\site-packages\\pandas\\io\\html.py\u001b[0m in \u001b[0;36m_parser_dispatch\u001b[1;34m(flavor)\u001b[0m\n\u001b[0;32m    841\u001b[0m     \u001b[1;32mif\u001b[0m \u001b[0mflavor\u001b[0m \u001b[1;32min\u001b[0m \u001b[1;33m(\u001b[0m\u001b[1;34m\"bs4\"\u001b[0m\u001b[1;33m,\u001b[0m \u001b[1;34m\"html5lib\"\u001b[0m\u001b[1;33m)\u001b[0m\u001b[1;33m:\u001b[0m\u001b[1;33m\u001b[0m\u001b[1;33m\u001b[0m\u001b[0m\n\u001b[0;32m    842\u001b[0m         \u001b[1;32mif\u001b[0m \u001b[1;32mnot\u001b[0m \u001b[0m_HAS_HTML5LIB\u001b[0m\u001b[1;33m:\u001b[0m\u001b[1;33m\u001b[0m\u001b[1;33m\u001b[0m\u001b[0m\n\u001b[1;32m--> 843\u001b[1;33m             \u001b[1;32mraise\u001b[0m \u001b[0mImportError\u001b[0m\u001b[1;33m(\u001b[0m\u001b[1;34m\"html5lib not found, please install it\"\u001b[0m\u001b[1;33m)\u001b[0m\u001b[1;33m\u001b[0m\u001b[1;33m\u001b[0m\u001b[0m\n\u001b[0m\u001b[0;32m    844\u001b[0m         \u001b[1;32mif\u001b[0m \u001b[1;32mnot\u001b[0m \u001b[0m_HAS_BS4\u001b[0m\u001b[1;33m:\u001b[0m\u001b[1;33m\u001b[0m\u001b[1;33m\u001b[0m\u001b[0m\n\u001b[0;32m    845\u001b[0m             \u001b[1;32mraise\u001b[0m \u001b[0mImportError\u001b[0m\u001b[1;33m(\u001b[0m\u001b[1;34m\"BeautifulSoup4 (bs4) not found, please install it\"\u001b[0m\u001b[1;33m)\u001b[0m\u001b[1;33m\u001b[0m\u001b[1;33m\u001b[0m\u001b[0m\n",
      "\u001b[1;31mImportError\u001b[0m: html5lib not found, please install it"
     ]
    }
   ],
   "source": [
    "# Create all new variable for all the new url\n",
    "mars_url = 'https://space-facts.com/mars/'\n",
    "mars_facts = pd.read_html(mars_url, flavor='html5lib')\n",
    "mars_facts"
   ]
  },
  {
   "cell_type": "code",
   "execution_count": null,
   "metadata": {},
   "outputs": [],
   "source": []
  }
 ],
 "metadata": {
  "kernelspec": {
   "display_name": "Python [conda env:PythonData] *",
   "language": "python",
   "name": "conda-env-PythonData-py"
  },
  "language_info": {
   "codemirror_mode": {
    "name": "ipython",
    "version": 3
   },
   "file_extension": ".py",
   "mimetype": "text/x-python",
   "name": "python",
   "nbconvert_exporter": "python",
   "pygments_lexer": "ipython3",
   "version": "3.7.1"
  }
 },
 "nbformat": 4,
 "nbformat_minor": 4
}
