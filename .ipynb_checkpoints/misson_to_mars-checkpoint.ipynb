{
 "cells": [
  {
   "cell_type": "code",
   "execution_count": 48,
   "metadata": {},
   "outputs": [],
   "source": [
    "# Dependencies\n",
    "from bs4 import BeautifulSoup as bs\n",
    "import requests\n",
    "import pymongo\n",
    "from splinter import Browser\n",
    "from webdriver_manager.chrome import ChromeDriverManager\n",
    "import pandas as pd"
   ]
  },
  {
   "cell_type": "code",
   "execution_count": 2,
   "metadata": {},
   "outputs": [],
   "source": [
    "# Initialize Pymongo to work with MongoDBs"
   ]
  },
  {
   "cell_type": "code",
   "execution_count": 3,
   "metadata": {},
   "outputs": [],
   "source": [
    "# Define database and collection"
   ]
  },
  {
   "cell_type": "code",
   "execution_count": 4,
   "metadata": {},
   "outputs": [],
   "source": [
    "# URL of page to be scraped \n",
    "url = 'https://mars.nasa.gov/news/8805/moxie-could-help-future-rockets-launch-off-mars/'\n",
    "\n",
    "# Retrive page with the requests module\n",
    "response = requests.get(url)\n",
    "\n",
    "# Create BeautifulSoup object; parse with html\n",
    "soup = bs(response.text, 'html.parser')"
   ]
  },
  {
   "cell_type": "code",
   "execution_count": 5,
   "metadata": {
    "scrolled": true
   },
   "outputs": [
    {
     "name": "stdout",
     "output_type": "stream",
     "text": [
      "\n",
      "MOXIE Could Help Future Rockets Launch Off Mars\n",
      "\n",
      "\n",
      "\n",
      "NASA's Perseverance rover carries a device to convert Martian air into oxygen that, if produced on a larger scale, could be used not just for breathing, but also for fuel.\n",
      "\n",
      "One of the hardest things about sending astronauts to Mars will be getting them home. Launching a rocket off the surface of the Red Planet will require industrial quantities of oxygen, a crucial part of propellant: A crew of four would need about 55,000 pounds (25 metric tons) of it to produce thrust from 15,000 pounds (7 metric tons) of rocket fuel.\n",
      "That's a lot of propellant. But instead of shipping all that oxygen, what if the crew could make it out of thin (Martian) air? A first-generation oxygen generator aboard NASA's Perseverance rover will test technology for doing exactly that.\n",
      "The Mars Oxygen In-Situ Resource Utilization Experiment, or MOXIE, is an experimental instrument that stands apart from Perseverance's primary science. One of the rover's main purposes is capturing returnable rock samples that could carry signs of ancient microbial life. While Perseverance has a suite of instruments geared toward helping achieve that goal, MOXIE is focused solely on the engineering required for future human exploration efforts.    \n",
      "Since the dawn of the space age, researchers have talked about in-situ resource utilization, or ISRU. Think of it as living off the land and using what's available in the local environment. That includes things like finding water ice that could be melted for use or sheltering in caves, but also generating oxygen for rocket fuel and, of course, breathing.\n",
      "Breathing is just a side benefit of MOXIE's true goal, said Michael Hecht of the Massachusetts Institute of Technology, the instrument's principal investigator. Rocket propellant is the heaviest consumable resource that astronauts will need, so being able to produce oxygen at their destination would make the first crewed trip to Mars easier, safer, and cheaper.\n",
      "\"What people typically ask me is whether MOXIE is being developed so astronauts have something to breathe,\" Hecht said. \"But rockets breathe hundreds of times as much oxygen as people.\"\n",
      "\n",
      "\n",
      "\n",
      "\n",
      "\n",
      "\n",
      "Components of MOXIE: An illustration of MOXIE and its components. An air pump pulls in carbon dioxide gas from the Martian atmosphere, which is then regulated and fed to the Solid OXide Electrolyzer (SOXE), where it is electrochemically split to produce pure oxygen. Credit: NASA/JPL-Caltech. Download image ›\n",
      "\n",
      "\n",
      "\n",
      "Making Oxygen Requires Heat\n",
      "Mars' atmosphere poses a major challenge for human life and rocket propellant production. It's only 1% as thick as Earth's atmosphere and is 95% carbon dioxide.\n",
      "MOXIE pulls in that air with a pump, then uses an electrochemical process to separate two oxygen atoms from each molecule of carbon dioxide, or CO2. AnchorAs the gases flow through the system, they are analyzed to check how much oxygen has been produced, how pure it is, and how efficiently the system is working. All the gases are vented back into the atmosphere after each experiment is run.\n",
      "Powering this electrochemical conversion requires a lot of heat – about 1,470 degrees Fahrenheit (800 degrees Celsius). Because of those high temperatures, MOXIE, which is a little larger than a toaster, features a variety of heat-tolerant materials. Special 3D-printed nickel alloy parts help distribute the heat within the instrument, while superlight insulation called aerogel minimizes the power needed to keep it at operating temperatures. The outside of MOXIE is coated in a thin layer of gold, which is an excellent reflector of infrared heat and keeps those blistering temperatures from radiating into other parts of Perseverance.\n",
      "\"MOXIE is designed to make about 6 to 10 grams of oxygen per hour – just about enough for a small dog to breathe,\" said Asad Aboobaker, a MOXIE systems engineer at NASA's Jet Propulsion Laboratory in Southern California. \"A full-scale system geared to make (propellant for the flight home) would need to scale up oxygen production by about 200 times what MOXIE will create.\"\n",
      "\n",
      "\n",
      "\n",
      "\n",
      "\n",
      "Could NASA's MOXIE Help Astronauts Breathe on Mars? MOXIE engineer Asad Aboobaker of JPL explains how the instrument works in this video interview. Credit: NASA/JPL-Caltech. Download video ›\n",
      "\n",
      "\n",
      "The Future Martians\n",
      "Hecht estimates that a full-scale MOXIE system on Mars might be a bit larger than a household stove and weigh around 2,200 pounds (1,000 kilograms) – almost as much as Perseverance itself. Work is ongoing to develop a prototype for one in the near future.\n",
      "The team expects to run MOXIE about 10 times over the course of one Mars year (two Earth years), allowing them to watch how well it works in varying seasons. The results will inform the design of future oxygen generators.\n",
      "\"The commitment to developing MOXIE shows that NASA is serious about this,\" Hecht said. \"MOXIE isn't the complete answer, but it's a critical piece of it. If successful, it will show that future astronauts can rely on this technology to help get them home safely from Mars.\"\n",
      "More About the Mission\n",
      "A key objective for Perseverance's mission on Mars is astrobiology, including the search for signs of ancient microbial life. The rover will characterize the planet's geology and past climate, pave the way for human exploration of the Red Planet, and be the first mission to collect and cache Martian rock and regolith (broken rock and dust).\n",
      "Subsequent missions, currently under consideration by NASA in cooperation with ESA (the European Space Agency), would send spacecraft to Mars to collect these cached samples from the surface and return them to Earth for in-depth analysis.\n",
      "The Mars 2020 mission is part of a larger program that includes missions to the Moon as a way to prepare for human exploration of the Red Planet. Charged with returning astronauts to the Moon by 2024, NASA will establish a sustained human presence on and around the Moon by 2028 through NASA's Artemis lunar exploration plans.\n",
      "JPL, which is managed for NASA by Caltech in Pasadena, California, built and manages operations of the Perseverance rover.\n",
      "For more about Perseverance:\n",
      "mars.nasa.gov/mars2020/\n",
      "nasa.gov/perseverance\n",
      "News Media Contacts\r\n",
      "Andrew Good\r\n",
      "Jet Propulsion Laboratory, Pasadena, Calif.\r\n",
      "818-393-2433\n",
      "andrew.c.good@jpl.nasa.gov\n",
      " \n",
      "Alana Johnson / Grey Hautaluoma\r\n",
      "NASA Headquarters, Washington\r\n",
      "202-672-4780 / 202-358-0668\n",
      "alana.r.johnson@nasa.gov / grey.hautaluoma-1@nasa.gov\n",
      "\n"
     ]
    }
   ],
   "source": [
    "# Retrieve the parent divs for all articles\n",
    "article_title = soup.find('h1', class_='article_title').text\n",
    "content = soup.find('div', class_='wysiwyg_content').text\n",
    "print(article_title)\n",
    "print(content)\n",
    "\n"
   ]
  },
  {
   "cell_type": "code",
   "execution_count": 6,
   "metadata": {},
   "outputs": [
    {
     "name": "stderr",
     "output_type": "stream",
     "text": [
      "[WDM] - Current google-chrome version is 87.0.4280\n",
      "[WDM] - Get LATEST driver version for 87.0.4280\n",
      "[WDM] - Get LATEST driver version for 87.0.4280\n",
      "[WDM] - Trying to download new driver from http://chromedriver.storage.googleapis.com/87.0.4280.88/chromedriver_win32.zip\n"
     ]
    },
    {
     "name": "stdout",
     "output_type": "stream",
     "text": [
      " \n"
     ]
    },
    {
     "name": "stderr",
     "output_type": "stream",
     "text": [
      "[WDM] - Driver has been saved in cache [C:\\Users\\lakew\\.wdm\\drivers\\chromedriver\\win32\\87.0.4280.88]\n"
     ]
    }
   ],
   "source": [
    "# Create executable path and create browser\n",
    "executable_path = {'executable_path': ChromeDriverManager().install()}\n",
    "browser = Browser('chrome', **executable_path, headless=False)"
   ]
  },
  {
   "cell_type": "code",
   "execution_count": 7,
   "metadata": {},
   "outputs": [],
   "source": [
    "# Assign url and have the browser open it\n",
    "nasa_url = 'https://www.jpl.nasa.gov/spaceimages/?search=&category=Mars'\n",
    "browser.visit(nasa_url)"
   ]
  },
  {
   "cell_type": "code",
   "execution_count": 8,
   "metadata": {},
   "outputs": [],
   "source": [
    "# Create new html and soup for splinter \n",
    "mars_html = browser.html\n",
    "mars_soup = bs(mars_html, 'html.parser')"
   ]
  },
  {
   "cell_type": "code",
   "execution_count": 9,
   "metadata": {},
   "outputs": [
    {
     "name": "stdout",
     "output_type": "stream",
     "text": [
      "https://www.jpl.nasa.gov//spaceimages/images/mediumsize/PIA19108_ip.jpg\n"
     ]
    }
   ],
   "source": [
    "# Dig into the main image and then further down into the appropriate href\n",
    "featured = mars_soup.find('div', class_='carousel_container')\n",
    "featured_image = featured.find('footer')\n",
    "featured_url = featured_image.find('a')['data-fancybox-href']\n",
    "featured_url = 'https://www.jpl.nasa.gov/' + featured_url\n",
    "print(featured_url)"
   ]
  },
  {
   "cell_type": "code",
   "execution_count": 10,
   "metadata": {},
   "outputs": [],
   "source": [
    "browser.quit()"
   ]
  },
  {
   "cell_type": "code",
   "execution_count": 11,
   "metadata": {},
   "outputs": [
    {
     "data": {
      "text/html": [
       "<div>\n",
       "<style scoped>\n",
       "    .dataframe tbody tr th:only-of-type {\n",
       "        vertical-align: middle;\n",
       "    }\n",
       "\n",
       "    .dataframe tbody tr th {\n",
       "        vertical-align: top;\n",
       "    }\n",
       "\n",
       "    .dataframe thead th {\n",
       "        text-align: right;\n",
       "    }\n",
       "</style>\n",
       "<table border=\"1\" class=\"dataframe\">\n",
       "  <thead>\n",
       "    <tr style=\"text-align: right;\">\n",
       "      <th></th>\n",
       "      <th>0</th>\n",
       "      <th>1</th>\n",
       "    </tr>\n",
       "  </thead>\n",
       "  <tbody>\n",
       "    <tr>\n",
       "      <th>0</th>\n",
       "      <td>Equatorial Diameter:</td>\n",
       "      <td>6,792 km</td>\n",
       "    </tr>\n",
       "    <tr>\n",
       "      <th>1</th>\n",
       "      <td>Polar Diameter:</td>\n",
       "      <td>6,752 km</td>\n",
       "    </tr>\n",
       "    <tr>\n",
       "      <th>2</th>\n",
       "      <td>Mass:</td>\n",
       "      <td>6.39 × 10^23 kg (0.11 Earths)</td>\n",
       "    </tr>\n",
       "    <tr>\n",
       "      <th>3</th>\n",
       "      <td>Moons:</td>\n",
       "      <td>2 (Phobos &amp; Deimos)</td>\n",
       "    </tr>\n",
       "    <tr>\n",
       "      <th>4</th>\n",
       "      <td>Orbit Distance:</td>\n",
       "      <td>227,943,824 km (1.38 AU)</td>\n",
       "    </tr>\n",
       "    <tr>\n",
       "      <th>5</th>\n",
       "      <td>Orbit Period:</td>\n",
       "      <td>687 days (1.9 years)</td>\n",
       "    </tr>\n",
       "    <tr>\n",
       "      <th>6</th>\n",
       "      <td>Surface Temperature:</td>\n",
       "      <td>-87 to -5 °C</td>\n",
       "    </tr>\n",
       "    <tr>\n",
       "      <th>7</th>\n",
       "      <td>First Record:</td>\n",
       "      <td>2nd millennium BC</td>\n",
       "    </tr>\n",
       "    <tr>\n",
       "      <th>8</th>\n",
       "      <td>Recorded By:</td>\n",
       "      <td>Egyptian astronomers</td>\n",
       "    </tr>\n",
       "  </tbody>\n",
       "</table>\n",
       "</div>"
      ],
      "text/plain": [
       "                      0                              1\n",
       "0  Equatorial Diameter:                       6,792 km\n",
       "1       Polar Diameter:                       6,752 km\n",
       "2                 Mass:  6.39 × 10^23 kg (0.11 Earths)\n",
       "3                Moons:            2 (Phobos & Deimos)\n",
       "4       Orbit Distance:       227,943,824 km (1.38 AU)\n",
       "5         Orbit Period:           687 days (1.9 years)\n",
       "6  Surface Temperature:                   -87 to -5 °C\n",
       "7         First Record:              2nd millennium BC\n",
       "8          Recorded By:           Egyptian astronomers"
      ]
     },
     "execution_count": 11,
     "metadata": {},
     "output_type": "execute_result"
    }
   ],
   "source": [
    "# Create all new variable for all the new url\n",
    "mars_url = 'https://space-facts.com/mars/'\n",
    "mars_facts = pd.read_html(mars_url)\n",
    "mars_df = mars_facts[0]\n",
    "mars_df"
   ]
  },
  {
   "cell_type": "code",
   "execution_count": 50,
   "metadata": {},
   "outputs": [],
   "source": [
    "# Find titles of the articles with for loop\n",
    "# Create new url\n",
    "img_url = 'https://astrogeology.usgs.gov/search/results?q=hemisphere+enhanced&k1=target&v1=Mars'\n",
    "\n",
    "# Retreive page with the requests module\n",
    "img_response = requests.get(img_url)\n",
    "\n",
    "# Create bs object\n",
    "img_soup = bs(img_response.text, 'html.parser')\n"
   ]
  },
  {
   "cell_type": "code",
   "execution_count": 53,
   "metadata": {},
   "outputs": [
    {
     "name": "stdout",
     "output_type": "stream",
     "text": [
      "------------\n",
      "Cerberus Hemisphere Enhanced\n",
      "------------\n",
      "Schiaparelli Hemisphere Enhanced\n",
      "------------\n",
      "Syrtis Major Hemisphere Enhanced\n",
      "------------\n",
      "Valles Marineris Hemisphere Enhanced\n"
     ]
    }
   ],
   "source": [
    "# Retreive the parent divs for all articles\n",
    "img_results = img_soup.find_all('div', class_='item')\n",
    "\n",
    "title_list = []\n",
    "# Loop over results to get article data\n",
    "for result in img_results:\n",
    "    # Scrape for title\n",
    "    title = result.find('h3').text\n",
    "    print('------------')\n",
    "    print(title)\n",
    "    title_list.append(title)"
   ]
  },
  {
   "cell_type": "code",
   "execution_count": 54,
   "metadata": {},
   "outputs": [
    {
     "name": "stdout",
     "output_type": "stream",
     "text": [
      "['Cerberus Hemisphere Enhanced', 'Schiaparelli Hemisphere Enhanced', 'Syrtis Major Hemisphere Enhanced', 'Valles Marineris Hemisphere Enhanced']\n"
     ]
    }
   ],
   "source": [
    "print(title_list)"
   ]
  },
  {
   "cell_type": "code",
   "execution_count": null,
   "metadata": {},
   "outputs": [],
   "source": []
  },
  {
   "cell_type": "code",
   "execution_count": null,
   "metadata": {},
   "outputs": [],
   "source": []
  },
  {
   "cell_type": "code",
   "execution_count": null,
   "metadata": {},
   "outputs": [],
   "source": []
  },
  {
   "cell_type": "code",
   "execution_count": null,
   "metadata": {},
   "outputs": [],
   "source": []
  },
  {
   "cell_type": "code",
   "execution_count": 13,
   "metadata": {
    "scrolled": true
   },
   "outputs": [
    {
     "name": "stderr",
     "output_type": "stream",
     "text": [
      "[WDM] - Current google-chrome version is 87.0.4280\n",
      "[WDM] - Get LATEST driver version for 87.0.4280\n",
      "[WDM] - Driver [C:\\Users\\lakew\\.wdm\\drivers\\chromedriver\\win32\\87.0.4280.88\\chromedriver.exe] found in cache\n"
     ]
    },
    {
     "name": "stdout",
     "output_type": "stream",
     "text": [
      " \n"
     ]
    }
   ],
   "source": [
    "# Create executable path and create browser\n",
    "executable_path = {'executable_path': ChromeDriverManager().install()}\n",
    "browser = Browser('chrome', **executable_path, headless=False)"
   ]
  },
  {
   "cell_type": "code",
   "execution_count": 14,
   "metadata": {},
   "outputs": [],
   "source": [
    "# Create new url\n",
    "pics_url = 'https://astrogeology.usgs.gov/search/results?q=hemisphere+enhanced&k1=target&v1=Mars'\n",
    "\n",
    "# Visit the new url\n",
    "browser.visit(pics_url)"
   ]
  },
  {
   "cell_type": "code",
   "execution_count": 43,
   "metadata": {},
   "outputs": [
    {
     "name": "stdout",
     "output_type": "stream",
     "text": [
      "[]\n"
     ]
    }
   ],
   "source": [
    "# Create new html and soup for the new url\n",
    "pics_html = browser.html\n",
    "pics_soup = bs(pics_html, 'html.parser')\n",
    "\n",
    "pictures = pics_soup.find_all('div', class_='item')\n",
    "\n",
    "url_list = []\n",
    "\n",
    "for picture in pictures:\n",
    "    browser.links.find_by_partial_text('Hemisphere').click()\n",
    "    image_url = links_found = browser.find_by_css('img').links.find_by_partial_href('/cache/images').text\n",
    "    url_list.append(image_url)\n",
    "\n",
    "\n",
    "    \n",
    "    \n",
    "    "
   ]
  },
  {
   "cell_type": "code",
   "execution_count": 41,
   "metadata": {},
   "outputs": [
    {
     "name": "stdout",
     "output_type": "stream",
     "text": [
      "[]\n"
     ]
    }
   ],
   "source": [
    "print(url_list)"
   ]
  },
  {
   "cell_type": "code",
   "execution_count": 44,
   "metadata": {},
   "outputs": [],
   "source": [
    "browser.quit()"
   ]
  },
  {
   "cell_type": "code",
   "execution_count": null,
   "metadata": {},
   "outputs": [],
   "source": [
    "    image = browser.links.find_by_partial_text('Hemisphere').click()\n",
    "    image_url = links_found = browser.find_by_css('img').links.find_by_partial_href('/cache/images').text"
   ]
  }
 ],
 "metadata": {
  "kernelspec": {
   "display_name": "Python [conda env:PythonData] *",
   "language": "python",
   "name": "conda-env-PythonData-py"
  },
  "language_info": {
   "codemirror_mode": {
    "name": "ipython",
    "version": 3
   },
   "file_extension": ".py",
   "mimetype": "text/x-python",
   "name": "python",
   "nbconvert_exporter": "python",
   "pygments_lexer": "ipython3",
   "version": "3.7.1"
  }
 },
 "nbformat": 4,
 "nbformat_minor": 4
}
